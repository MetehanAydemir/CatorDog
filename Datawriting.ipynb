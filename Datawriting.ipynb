{
 "cells": [
  {
   "cell_type": "code",
   "execution_count": 1,
   "metadata": {},
   "outputs": [],
   "source": [
    "#import libs\n",
    "import numpy as np\n",
    "import os\n",
    "import cv2\n",
    "import pickle\n",
    "import random\n",
    "import matplotlib.pyplot as plt"
   ]
  },
  {
   "cell_type": "code",
   "execution_count": 2,
   "metadata": {},
   "outputs": [],
   "source": [
    "#Data path\n",
    "DIRECTORY= r'C:\\Users\\u\\Documents\\catvsdog\\dogscats\\dataset'\n",
    "CATEGORIES=['Cat','Dog']\n"
   ]
  },
  {
   "cell_type": "code",
   "execution_count": 3,
   "metadata": {},
   "outputs": [
    {
     "name": "stdout",
     "output_type": "stream",
     "text": [
      "Wrong path and deleted: C:\\Users\\u\\Documents\\catvsdog\\dogscats\\dataset\\Cat\\Downloads - Shortcut.lnk\n"
     ]
    }
   ],
   "source": [
    "#Data check and resize \n",
    "img_size = 100 #image size for model\n",
    "data=[]\n",
    "for category in CATEGORIES:\n",
    "        folder=os.path.join(DIRECTORY, category)\n",
    "        label= CATEGORIES.index(category)\n",
    "        for img in os.listdir(folder):\n",
    "            img_path=os.path.join(folder,img)\n",
    "            img_arr=cv2.imread(img_path,cv2.IMREAD_COLOR)\n",
    "            if img_arr is None: #if image not readable\n",
    "                os.remove(img_path)\n",
    "                print('Wrong path and deleted:', img_path)\n",
    "            else:\n",
    "                img_arr=cv2.resize(img_arr,(img_size,img_size))\n",
    "                data.append([img_arr,label])"
   ]
  },
  {
   "cell_type": "code",
   "execution_count": 4,
   "metadata": {},
   "outputs": [],
   "source": [
    "#Data randomize\n",
    "len(data)\n",
    "random.shuffle(data)"
   ]
  },
  {
   "cell_type": "code",
   "execution_count": 5,
   "metadata": {},
   "outputs": [],
   "source": [
    "#split data\n",
    "x=[]        \n",
    "y=[]\n",
    "for features,labels in data:\n",
    "    x.append(features)\n",
    "    y.append(labels)"
   ]
  },
  {
   "cell_type": "code",
   "execution_count": 7,
   "metadata": {},
   "outputs": [
    {
     "name": "stdout",
     "output_type": "stream",
     "text": [
      "[0 0 0 ... 1 0 0]\n"
     ]
    }
   ],
   "source": [
    "#check data\n",
    "x=np.array(x)\n",
    "y=np.array(y)\n",
    "print(x)"
   ]
  },
  {
   "cell_type": "code",
   "execution_count": 9,
   "metadata": {},
   "outputs": [],
   "source": [
    "#save processed data\n",
    "pickle.dump(x, open('x.pkl','wb')) #w= write b= binary\n",
    "pickle.dump(y, open('y.pkl','wb'))"
   ]
  },
  {
   "cell_type": "code",
   "execution_count": null,
   "metadata": {},
   "outputs": [],
   "source": []
  }
 ],
 "metadata": {
  "kernelspec": {
   "display_name": "Python 3",
   "language": "python",
   "name": "python3"
  },
  "language_info": {
   "codemirror_mode": {
    "name": "ipython",
    "version": 3
   },
   "file_extension": ".py",
   "mimetype": "text/x-python",
   "name": "python",
   "nbconvert_exporter": "python",
   "pygments_lexer": "ipython3",
   "version": "3.8.1"
  }
 },
 "nbformat": 4,
 "nbformat_minor": 2
}
